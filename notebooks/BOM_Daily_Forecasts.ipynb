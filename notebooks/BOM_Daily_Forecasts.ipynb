{
 "cells": [
  {
   "cell_type": "markdown",
   "id": "ed52861a-c288-46a8-aa9a-c2c72b22823b",
   "metadata": {},
   "source": [
    "## BOM Data- Daily Forecasts by potcode"
   ]
  },
  {
   "cell_type": "code",
   "execution_count": 1,
   "id": "aed5bd3b-baee-4894-9d6a-d78fcfcf16a2",
   "metadata": {},
   "outputs": [],
   "source": [
    "import requests\n",
    "import datetime\n",
    "import pandas as pd\n",
    "from datetime import datetime"
   ]
  },
  {
   "cell_type": "markdown",
   "id": "58e084e6-e985-4a63-9721-d05febaec3a6",
   "metadata": {},
   "source": [
    "The process to get daily observations has two steps: first to find geohash e.g. by postcode and then observation"
   ]
  },
  {
   "cell_type": "code",
   "execution_count": 2,
   "id": "ed89a578-61d2-4595-b0c3-3cbedffaa296",
   "metadata": {},
   "outputs": [],
   "source": [
    "postcode=2079"
   ]
  },
  {
   "cell_type": "code",
   "execution_count": 3,
   "id": "8115faf9-3db0-465b-a625-6429f1af75cf",
   "metadata": {},
   "outputs": [],
   "source": [
    "header= {'accept': 'application/json'}"
   ]
  },
  {
   "cell_type": "code",
   "execution_count": 4,
   "id": "e112798e-e2e6-4329-ba79-8cafc12dc295",
   "metadata": {},
   "outputs": [],
   "source": [
    "param_name='search'"
   ]
  },
  {
   "cell_type": "code",
   "execution_count": 5,
   "id": "7fc676bf-4ddc-4f65-a980-ee818c92c136",
   "metadata": {},
   "outputs": [],
   "source": [
    "param_value=str(postcode)"
   ]
  },
  {
   "cell_type": "code",
   "execution_count": 8,
   "id": "d4567096-a759-4942-bf4e-abefea9c2e08",
   "metadata": {},
   "outputs": [],
   "source": [
    "api_url='https://api.weather.bom.gov.au/v1/locations/'\n",
    "s3_bucket='bom-alibo'"
   ]
  },
  {
   "cell_type": "code",
   "execution_count": 9,
   "id": "0d9cf0d2-1c7b-46f0-a1ac-ae712e14cedd",
   "metadata": {},
   "outputs": [],
   "source": [
    "resource=api_url+'?'+param_name+'='+param_value"
   ]
  },
  {
   "cell_type": "code",
   "execution_count": 10,
   "id": "10210757-9060-4534-9199-abed9c61b50d",
   "metadata": {},
   "outputs": [
    {
     "name": "stdout",
     "output_type": "stream",
     "text": [
      "GET https://api.weather.bom.gov.au/v1/locations/?search=2079\n"
     ]
    }
   ],
   "source": [
    "print(\"GET \"+resource)"
   ]
  },
  {
   "cell_type": "code",
   "execution_count": 11,
   "id": "d087162e-efae-42f6-a348-5f04b0fef383",
   "metadata": {},
   "outputs": [
    {
     "name": "stdout",
     "output_type": "stream",
     "text": [
      "https://api.weather.bom.gov.au/v1/locations/?search=2079\n",
      "[2024-08-06][16:28:10:302270] The request has been processed successfully.\n"
     ]
    }
   ],
   "source": [
    "try:\n",
    "    print(resource)\n",
    "    response = requests.get(resource, headers=header)  \n",
    "    if response.status_code == 200:\n",
    "        success=True\n",
    "        print(datetime.now().strftime(\"[%Y-%m-%d][%H:%M:%S:%f] \")+\"The request has been processed successfully.\")\n",
    "    else :\n",
    "        print(datetime.now().strftime(\"[%Y-%m-%d][%H:%M:%S:%f] \")+'ERROR CODE '+str(response.status_code)+' RAISED: '+get_error_message(response.status_code))\n",
    "        success=False\n",
    "        #While success is false, can re-try api calls after a certain period\n",
    "        #print(datetime.now().strftime(\"[%Y-%m-%d][%H:%M:%S:%f \")+'RETRYING 'resource + ' AFTER '+ str(wait_time)+ ' SECONDS.')\n",
    "        #time.sleep(wait_time)\n",
    "except Exception as e:\n",
    "            print(datetime.now().strftime(\"[%Y-%m-%d][%H:%M:%S:%f]\")+str(e))"
   ]
  },
  {
   "cell_type": "code",
   "execution_count": 12,
   "id": "e7c915f0-5775-40f2-b758-6fc8905fa7c0",
   "metadata": {},
   "outputs": [
    {
     "name": "stdout",
     "output_type": "stream",
     "text": [
      "{'metadata': {'response_timestamp': '2024-08-06T06:28:10Z', 'copyright': 'This Application Programming Interface (API) is owned by the Bureau of Meteorology (Bureau). You must not use, copy or share it. Please contact us for more information on ways in which you can access our data. Follow this link http://www.bom.gov.au/inside/contacts.shtml to view our contact details.'}, 'data': [{'geohash': 'r652qwq', 'id': 'Mount Colah-r652qwq', 'name': 'Mount Colah', 'postcode': '2079', 'state': 'NSW'}]}\n"
     ]
    }
   ],
   "source": [
    "response_json=''\n",
    "if success:\n",
    "       try:\n",
    "           response_json=response.json()\n",
    "           print(response_json)\n",
    "       except Exception as e:\n",
    "           print(datetime.now().strftime(\"[%Y-%m-%d][%H:%M:%S:%f]\")+str(e))"
   ]
  },
  {
   "cell_type": "code",
   "execution_count": 13,
   "id": "10f618ff-4746-474f-a5e4-08bf1ddd3c74",
   "metadata": {},
   "outputs": [],
   "source": [
    "df_locations=pd.json_normalize(response_json['data'])"
   ]
  },
  {
   "cell_type": "code",
   "execution_count": 14,
   "id": "15f76e46-a544-45c7-acd5-6446967cca08",
   "metadata": {},
   "outputs": [
    {
     "data": {
      "text/html": [
       "<div>\n",
       "<style scoped>\n",
       "    .dataframe tbody tr th:only-of-type {\n",
       "        vertical-align: middle;\n",
       "    }\n",
       "\n",
       "    .dataframe tbody tr th {\n",
       "        vertical-align: top;\n",
       "    }\n",
       "\n",
       "    .dataframe thead th {\n",
       "        text-align: right;\n",
       "    }\n",
       "</style>\n",
       "<table border=\"1\" class=\"dataframe\">\n",
       "  <thead>\n",
       "    <tr style=\"text-align: right;\">\n",
       "      <th></th>\n",
       "      <th>geohash</th>\n",
       "      <th>id</th>\n",
       "      <th>name</th>\n",
       "      <th>postcode</th>\n",
       "      <th>state</th>\n",
       "    </tr>\n",
       "  </thead>\n",
       "  <tbody>\n",
       "    <tr>\n",
       "      <th>0</th>\n",
       "      <td>r652qwq</td>\n",
       "      <td>Mount Colah-r652qwq</td>\n",
       "      <td>Mount Colah</td>\n",
       "      <td>2079</td>\n",
       "      <td>NSW</td>\n",
       "    </tr>\n",
       "  </tbody>\n",
       "</table>\n",
       "</div>"
      ],
      "text/plain": [
       "   geohash                   id         name postcode state\n",
       "0  r652qwq  Mount Colah-r652qwq  Mount Colah     2079   NSW"
      ]
     },
     "execution_count": 14,
     "metadata": {},
     "output_type": "execute_result"
    }
   ],
   "source": [
    "df_locations"
   ]
  },
  {
   "cell_type": "code",
   "execution_count": 19,
   "id": "c5ca3677-9d21-4bb4-a436-2f100a8b88a3",
   "metadata": {},
   "outputs": [],
   "source": [
    "geohash_location=df_locations['geohash'][0] #get geohash of first record"
   ]
  },
  {
   "cell_type": "code",
   "execution_count": 20,
   "id": "cc8cc47c-face-4de6-91c6-a404b0aa250a",
   "metadata": {},
   "outputs": [
    {
     "data": {
      "text/plain": [
       "'r652qwq'"
      ]
     },
     "execution_count": 20,
     "metadata": {},
     "output_type": "execute_result"
    }
   ],
   "source": [
    "geohash_location"
   ]
  },
  {
   "cell_type": "code",
   "execution_count": 54,
   "id": "8c0d86da-b177-45eb-96c3-07119e5b09fb",
   "metadata": {},
   "outputs": [
    {
     "name": "stdout",
     "output_type": "stream",
     "text": [
      "[2024-08-07][18:28:08:678880] GET https://api.weather.bom.gov.au/v1/locations/r652qwq/forecasts/daily\n"
     ]
    }
   ],
   "source": [
    "#product_id='IDV60901'\n",
    "resource=api_url+str(geohash_location)+'/forecasts/daily'\n",
    "print(datetime.now().strftime(\"[%Y-%m-%d][%H:%M:%S:%f] \")+\"GET \"+resource)  "
   ]
  },
  {
   "cell_type": "code",
   "execution_count": 55,
   "id": "8b89f453-bc94-434b-9801-ad38bc0d46bb",
   "metadata": {},
   "outputs": [
    {
     "name": "stdout",
     "output_type": "stream",
     "text": [
      "https://api.weather.bom.gov.au/v1/locations/r652qwq/forecasts/daily\n",
      "[2024-08-07][18:28:10:135075] The request has been processed successfully.\n"
     ]
    }
   ],
   "source": [
    "try:\n",
    "    print(resource)\n",
    "    response = requests.get(resource, headers=header)  \n",
    "    if response.status_code == 200:\n",
    "        success=True\n",
    "        print(datetime.now().strftime(\"[%Y-%m-%d][%H:%M:%S:%f] \")+\"The request has been processed successfully.\")\n",
    "    else :\n",
    "        print(datetime.now().strftime(\"[%Y-%m-%d][%H:%M:%S:%f] \")+'ERROR CODE '+str(response.status_code)+' RAISED: '+get_error_message(response.status_code))\n",
    "        success=False\n",
    "        #While success is false, can re-try api calls after a certain period\n",
    "        #print(datetime.now().strftime(\"[%Y-%m-%d][%H:%M:%S:%f \")+'RETRYING 'resource + ' AFTER '+ str(wait_time)+ ' SECONDS.')\n",
    "        #time.sleep(wait_time)\n",
    "except Exception as e:\n",
    "            print(datetime.now().strftime(\"[%Y-%m-%d][%H:%M:%S:%f]\")+str(e))"
   ]
  },
  {
   "cell_type": "code",
   "execution_count": 56,
   "id": "fa0e71aa-6811-4c9e-8103-b78f63faf5e8",
   "metadata": {},
   "outputs": [
    {
     "name": "stdout",
     "output_type": "stream",
     "text": [
      "{'data': [{'rain': {'amount': {'min': 0, 'max': None, 'lower_range': 0, 'upper_range': 0, 'units': 'mm'}, 'chance': 5, 'chance_of_no_rain_category': 'very high', 'precipitation_amount_25_percent_chance': 0, 'precipitation_amount_50_percent_chance': 0, 'precipitation_amount_75_percent_chance': 0}, 'uv': {'category': 'moderate', 'end_time': '2024-08-07T02:40:00Z', 'max_index': 3, 'start_time': '2024-08-07T01:40:00Z'}, 'astronomical': {'sunrise_time': '2024-08-06T20:43:44Z', 'sunset_time': '2024-08-07T07:21:33Z'}, 'date': '2024-08-06T14:00:00Z', 'temp_max': 18, 'temp_min': None, 'extended_text': 'Clear. Light winds.', 'icon_descriptor': 'clear', 'short_text': 'Clear.', 'surf_danger': None, 'fire_danger': None, 'fire_danger_category': {'text': None, 'default_colour': None, 'dark_mode_colour': None}, 'now': {'is_night': True, 'now_label': 'Overnight min', 'later_label': \"Tomorrow's max\", 'temp_now': 5, 'temp_later': 20}}, {'rain': {'amount': {'min': 0, 'max': None, 'lower_range': 0, 'upper_range': 0, 'units': 'mm'}, 'chance': 5, 'chance_of_no_rain_category': 'very high', 'precipitation_amount_25_percent_chance': 0, 'precipitation_amount_50_percent_chance': 0, 'precipitation_amount_75_percent_chance': 0}, 'uv': {'category': 'moderate', 'end_time': '2024-08-08T02:40:00Z', 'max_index': 3, 'start_time': '2024-08-08T01:10:00Z'}, 'astronomical': {'sunrise_time': '2024-08-07T20:42:48Z', 'sunset_time': '2024-08-08T07:22:15Z'}, 'date': '2024-08-07T14:00:00Z', 'temp_max': 20, 'temp_min': 5, 'extended_text': 'Patches of morning frost in the west. The chance of morning fog. Mostly sunny afternoon. Light winds becoming northeasterly 15 to 20 km/h in the early afternoon then becoming light in the evening.', 'icon_descriptor': 'fog', 'short_text': 'Sunny.', 'surf_danger': None, 'fire_danger': 'No Rating', 'fire_danger_category': {'text': 'No Rating', 'default_colour': None, 'dark_mode_colour': None}}, {'rain': {'amount': {'min': 0, 'max': None, 'lower_range': 0, 'upper_range': 0, 'units': 'mm'}, 'chance': 10, 'chance_of_no_rain_category': 'very high', 'precipitation_amount_25_percent_chance': 0, 'precipitation_amount_50_percent_chance': 0, 'precipitation_amount_75_percent_chance': 0}, 'uv': {'category': 'moderate', 'end_time': '2024-08-09T02:30:00Z', 'max_index': 3, 'start_time': '2024-08-09T01:30:00Z'}, 'astronomical': {'sunrise_time': '2024-08-08T20:41:50Z', 'sunset_time': '2024-08-09T07:22:58Z'}, 'date': '2024-08-08T14:00:00Z', 'temp_max': 20, 'temp_min': 9, 'extended_text': 'Partly cloudy. The chance of morning fog in the west. Light winds.', 'icon_descriptor': 'cloudy', 'short_text': 'Partly cloudy.', 'surf_danger': None, 'fire_danger': 'No Rating', 'fire_danger_category': {'text': 'No Rating', 'default_colour': None, 'dark_mode_colour': None}}, {'rain': {'amount': {'min': 0, 'max': 1, 'lower_range': 0, 'upper_range': 1, 'units': 'mm'}, 'chance': 40, 'chance_of_no_rain_category': 'medium', 'precipitation_amount_25_percent_chance': 1, 'precipitation_amount_50_percent_chance': 0, 'precipitation_amount_75_percent_chance': 0}, 'uv': {'category': 'moderate', 'end_time': '2024-08-10T03:00:00Z', 'max_index': 3, 'start_time': '2024-08-10T00:50:00Z'}, 'astronomical': {'sunrise_time': '2024-08-09T20:40:52Z', 'sunset_time': '2024-08-10T07:23:41Z'}, 'date': '2024-08-09T14:00:00Z', 'temp_max': 19, 'temp_min': 8, 'extended_text': 'Partly cloudy. The chance of morning fog in the west. Slight chance of a shower, most likely in the morning and afternoon. Light winds.', 'icon_descriptor': 'shower', 'short_text': 'Possible shower.', 'surf_danger': None, 'fire_danger': 'No Rating', 'fire_danger_category': {'text': 'No Rating', 'default_colour': None, 'dark_mode_colour': None}}, {'rain': {'amount': {'min': 0, 'max': 2, 'lower_range': 0, 'upper_range': 2, 'units': 'mm'}, 'chance': 50, 'chance_of_no_rain_category': 'medium', 'precipitation_amount_25_percent_chance': 2, 'precipitation_amount_50_percent_chance': 0, 'precipitation_amount_75_percent_chance': 0}, 'uv': {'category': None, 'end_time': None, 'max_index': None, 'start_time': None}, 'astronomical': {'sunrise_time': '2024-08-10T20:39:53Z', 'sunset_time': '2024-08-11T07:24:23Z'}, 'date': '2024-08-10T14:00:00Z', 'temp_max': 18, 'temp_min': 9, 'extended_text': 'Partly cloudy. The chance of morning fog. Medium chance of showers, most likely in the morning and afternoon. Light winds.', 'icon_descriptor': 'shower', 'short_text': 'Shower or two.', 'surf_danger': None, 'fire_danger': 'No Rating', 'fire_danger_category': {'text': 'No Rating', 'default_colour': None, 'dark_mode_colour': None}}, {'rain': {'amount': {'min': 1, 'max': 4, 'lower_range': 0, 'upper_range': 4, 'units': 'mm'}, 'chance': 60, 'chance_of_no_rain_category': 'medium', 'precipitation_amount_25_percent_chance': 4, 'precipitation_amount_50_percent_chance': 1, 'precipitation_amount_75_percent_chance': 0}, 'uv': {'category': None, 'end_time': None, 'max_index': None, 'start_time': None}, 'astronomical': {'sunrise_time': '2024-08-11T20:38:52Z', 'sunset_time': '2024-08-12T07:25:06Z'}, 'date': '2024-08-11T14:00:00Z', 'temp_max': 19, 'temp_min': 9, 'extended_text': 'Partly cloudy. Medium chance of showers. Light winds.', 'icon_descriptor': 'shower', 'short_text': 'Shower or two.', 'surf_danger': None, 'fire_danger': None, 'fire_danger_category': {'text': None, 'default_colour': None, 'dark_mode_colour': None}}, {'rain': {'amount': {'min': 0, 'max': 5, 'lower_range': 0, 'upper_range': 5, 'units': 'mm'}, 'chance': 50, 'chance_of_no_rain_category': 'medium', 'precipitation_amount_25_percent_chance': 5, 'precipitation_amount_50_percent_chance': 0, 'precipitation_amount_75_percent_chance': 0}, 'uv': {'category': None, 'end_time': None, 'max_index': None, 'start_time': None}, 'astronomical': {'sunrise_time': '2024-08-12T20:37:51Z', 'sunset_time': '2024-08-13T07:25:48Z'}, 'date': '2024-08-12T14:00:00Z', 'temp_max': 20, 'temp_min': 10, 'extended_text': 'Cloudy. Medium chance of showers. Light winds becoming northeasterly 15 to 20 km/h during the day.', 'icon_descriptor': 'shower', 'short_text': 'Shower or two.', 'surf_danger': None, 'fire_danger': None, 'fire_danger_category': {'text': None, 'default_colour': None, 'dark_mode_colour': None}}, {'rain': {'amount': {'min': 0, 'max': 3, 'lower_range': 0, 'upper_range': 3, 'units': 'mm'}, 'chance': 50, 'chance_of_no_rain_category': 'medium', 'precipitation_amount_25_percent_chance': 3, 'precipitation_amount_50_percent_chance': 0, 'precipitation_amount_75_percent_chance': 0}, 'uv': {'category': None, 'end_time': None, 'max_index': None, 'start_time': None}, 'astronomical': {'sunrise_time': '2024-08-13T20:36:48Z', 'sunset_time': '2024-08-14T07:26:30Z'}, 'date': '2024-08-13T14:00:00Z', 'temp_max': 21, 'temp_min': 11, 'extended_text': 'Partly cloudy. Medium chance of showers. Light winds.', 'icon_descriptor': 'shower', 'short_text': 'Shower or two.', 'surf_danger': None, 'fire_danger': None, 'fire_danger_category': {'text': None, 'default_colour': None, 'dark_mode_colour': None}}], 'metadata': {'response_timestamp': '2024-08-07T08:28:10Z', 'issue_time': '2024-08-07T07:11:19Z', 'next_issue_time': '2024-08-07T18:25:00Z', 'forecast_region': 'Sydney', 'forecast_type': 'metropolitan', 'copyright': 'This Application Programming Interface (API) is owned by the Bureau of Meteorology (Bureau). You must not use, copy or share it. Please contact us for more information on ways in which you can access our data. Follow this link http://www.bom.gov.au/inside/contacts.shtml to view our contact details.'}}\n"
     ]
    }
   ],
   "source": [
    "response_json=''\n",
    "if success:\n",
    "       try:\n",
    "           response_json=response.json()\n",
    "           print(response_json)\n",
    "       except Exception as e:\n",
    "           print(datetime.now().strftime(\"[%Y-%m-%d][%H:%M:%S:%f]\")+str(e))\n"
   ]
  },
  {
   "cell_type": "code",
   "execution_count": 57,
   "id": "84c0bf42-4333-4d63-97e4-e78c3ef876a3",
   "metadata": {},
   "outputs": [],
   "source": [
    "df_daily_forecast=pd.json_normalize(response_json['data'])"
   ]
  },
  {
   "cell_type": "code",
   "execution_count": 58,
   "id": "c3b8d62c-e8c5-48ac-b1e9-e4a0a62b5f73",
   "metadata": {},
   "outputs": [
    {
     "data": {
      "text/html": [
       "<div>\n",
       "<style scoped>\n",
       "    .dataframe tbody tr th:only-of-type {\n",
       "        vertical-align: middle;\n",
       "    }\n",
       "\n",
       "    .dataframe tbody tr th {\n",
       "        vertical-align: top;\n",
       "    }\n",
       "\n",
       "    .dataframe thead th {\n",
       "        text-align: right;\n",
       "    }\n",
       "</style>\n",
       "<table border=\"1\" class=\"dataframe\">\n",
       "  <thead>\n",
       "    <tr style=\"text-align: right;\">\n",
       "      <th></th>\n",
       "      <th>date</th>\n",
       "      <th>temp_max</th>\n",
       "      <th>temp_min</th>\n",
       "      <th>extended_text</th>\n",
       "      <th>icon_descriptor</th>\n",
       "      <th>short_text</th>\n",
       "      <th>surf_danger</th>\n",
       "      <th>fire_danger</th>\n",
       "      <th>rain.amount.min</th>\n",
       "      <th>rain.amount.max</th>\n",
       "      <th>...</th>\n",
       "      <th>astronomical.sunrise_time</th>\n",
       "      <th>astronomical.sunset_time</th>\n",
       "      <th>fire_danger_category.text</th>\n",
       "      <th>fire_danger_category.default_colour</th>\n",
       "      <th>fire_danger_category.dark_mode_colour</th>\n",
       "      <th>now.is_night</th>\n",
       "      <th>now.now_label</th>\n",
       "      <th>now.later_label</th>\n",
       "      <th>now.temp_now</th>\n",
       "      <th>now.temp_later</th>\n",
       "    </tr>\n",
       "  </thead>\n",
       "  <tbody>\n",
       "    <tr>\n",
       "      <th>0</th>\n",
       "      <td>2024-08-06T14:00:00Z</td>\n",
       "      <td>18</td>\n",
       "      <td>NaN</td>\n",
       "      <td>Clear. Light winds.</td>\n",
       "      <td>clear</td>\n",
       "      <td>Clear.</td>\n",
       "      <td>None</td>\n",
       "      <td>None</td>\n",
       "      <td>0</td>\n",
       "      <td>NaN</td>\n",
       "      <td>...</td>\n",
       "      <td>2024-08-06T20:43:44Z</td>\n",
       "      <td>2024-08-07T07:21:33Z</td>\n",
       "      <td>None</td>\n",
       "      <td>None</td>\n",
       "      <td>None</td>\n",
       "      <td>True</td>\n",
       "      <td>Overnight min</td>\n",
       "      <td>Tomorrow's max</td>\n",
       "      <td>5.0</td>\n",
       "      <td>20.0</td>\n",
       "    </tr>\n",
       "    <tr>\n",
       "      <th>1</th>\n",
       "      <td>2024-08-07T14:00:00Z</td>\n",
       "      <td>20</td>\n",
       "      <td>5.0</td>\n",
       "      <td>Patches of morning frost in the west. The chan...</td>\n",
       "      <td>fog</td>\n",
       "      <td>Sunny.</td>\n",
       "      <td>None</td>\n",
       "      <td>No Rating</td>\n",
       "      <td>0</td>\n",
       "      <td>NaN</td>\n",
       "      <td>...</td>\n",
       "      <td>2024-08-07T20:42:48Z</td>\n",
       "      <td>2024-08-08T07:22:15Z</td>\n",
       "      <td>No Rating</td>\n",
       "      <td>None</td>\n",
       "      <td>None</td>\n",
       "      <td>NaN</td>\n",
       "      <td>NaN</td>\n",
       "      <td>NaN</td>\n",
       "      <td>NaN</td>\n",
       "      <td>NaN</td>\n",
       "    </tr>\n",
       "    <tr>\n",
       "      <th>2</th>\n",
       "      <td>2024-08-08T14:00:00Z</td>\n",
       "      <td>20</td>\n",
       "      <td>9.0</td>\n",
       "      <td>Partly cloudy. The chance of morning fog in th...</td>\n",
       "      <td>cloudy</td>\n",
       "      <td>Partly cloudy.</td>\n",
       "      <td>None</td>\n",
       "      <td>No Rating</td>\n",
       "      <td>0</td>\n",
       "      <td>NaN</td>\n",
       "      <td>...</td>\n",
       "      <td>2024-08-08T20:41:50Z</td>\n",
       "      <td>2024-08-09T07:22:58Z</td>\n",
       "      <td>No Rating</td>\n",
       "      <td>None</td>\n",
       "      <td>None</td>\n",
       "      <td>NaN</td>\n",
       "      <td>NaN</td>\n",
       "      <td>NaN</td>\n",
       "      <td>NaN</td>\n",
       "      <td>NaN</td>\n",
       "    </tr>\n",
       "    <tr>\n",
       "      <th>3</th>\n",
       "      <td>2024-08-09T14:00:00Z</td>\n",
       "      <td>19</td>\n",
       "      <td>8.0</td>\n",
       "      <td>Partly cloudy. The chance of morning fog in th...</td>\n",
       "      <td>shower</td>\n",
       "      <td>Possible shower.</td>\n",
       "      <td>None</td>\n",
       "      <td>No Rating</td>\n",
       "      <td>0</td>\n",
       "      <td>1.0</td>\n",
       "      <td>...</td>\n",
       "      <td>2024-08-09T20:40:52Z</td>\n",
       "      <td>2024-08-10T07:23:41Z</td>\n",
       "      <td>No Rating</td>\n",
       "      <td>None</td>\n",
       "      <td>None</td>\n",
       "      <td>NaN</td>\n",
       "      <td>NaN</td>\n",
       "      <td>NaN</td>\n",
       "      <td>NaN</td>\n",
       "      <td>NaN</td>\n",
       "    </tr>\n",
       "    <tr>\n",
       "      <th>4</th>\n",
       "      <td>2024-08-10T14:00:00Z</td>\n",
       "      <td>18</td>\n",
       "      <td>9.0</td>\n",
       "      <td>Partly cloudy. The chance of morning fog. Medi...</td>\n",
       "      <td>shower</td>\n",
       "      <td>Shower or two.</td>\n",
       "      <td>None</td>\n",
       "      <td>No Rating</td>\n",
       "      <td>0</td>\n",
       "      <td>2.0</td>\n",
       "      <td>...</td>\n",
       "      <td>2024-08-10T20:39:53Z</td>\n",
       "      <td>2024-08-11T07:24:23Z</td>\n",
       "      <td>No Rating</td>\n",
       "      <td>None</td>\n",
       "      <td>None</td>\n",
       "      <td>NaN</td>\n",
       "      <td>NaN</td>\n",
       "      <td>NaN</td>\n",
       "      <td>NaN</td>\n",
       "      <td>NaN</td>\n",
       "    </tr>\n",
       "    <tr>\n",
       "      <th>5</th>\n",
       "      <td>2024-08-11T14:00:00Z</td>\n",
       "      <td>19</td>\n",
       "      <td>9.0</td>\n",
       "      <td>Partly cloudy. Medium chance of showers. Light...</td>\n",
       "      <td>shower</td>\n",
       "      <td>Shower or two.</td>\n",
       "      <td>None</td>\n",
       "      <td>None</td>\n",
       "      <td>1</td>\n",
       "      <td>4.0</td>\n",
       "      <td>...</td>\n",
       "      <td>2024-08-11T20:38:52Z</td>\n",
       "      <td>2024-08-12T07:25:06Z</td>\n",
       "      <td>None</td>\n",
       "      <td>None</td>\n",
       "      <td>None</td>\n",
       "      <td>NaN</td>\n",
       "      <td>NaN</td>\n",
       "      <td>NaN</td>\n",
       "      <td>NaN</td>\n",
       "      <td>NaN</td>\n",
       "    </tr>\n",
       "    <tr>\n",
       "      <th>6</th>\n",
       "      <td>2024-08-12T14:00:00Z</td>\n",
       "      <td>20</td>\n",
       "      <td>10.0</td>\n",
       "      <td>Cloudy. Medium chance of showers. Light winds ...</td>\n",
       "      <td>shower</td>\n",
       "      <td>Shower or two.</td>\n",
       "      <td>None</td>\n",
       "      <td>None</td>\n",
       "      <td>0</td>\n",
       "      <td>5.0</td>\n",
       "      <td>...</td>\n",
       "      <td>2024-08-12T20:37:51Z</td>\n",
       "      <td>2024-08-13T07:25:48Z</td>\n",
       "      <td>None</td>\n",
       "      <td>None</td>\n",
       "      <td>None</td>\n",
       "      <td>NaN</td>\n",
       "      <td>NaN</td>\n",
       "      <td>NaN</td>\n",
       "      <td>NaN</td>\n",
       "      <td>NaN</td>\n",
       "    </tr>\n",
       "    <tr>\n",
       "      <th>7</th>\n",
       "      <td>2024-08-13T14:00:00Z</td>\n",
       "      <td>21</td>\n",
       "      <td>11.0</td>\n",
       "      <td>Partly cloudy. Medium chance of showers. Light...</td>\n",
       "      <td>shower</td>\n",
       "      <td>Shower or two.</td>\n",
       "      <td>None</td>\n",
       "      <td>None</td>\n",
       "      <td>0</td>\n",
       "      <td>3.0</td>\n",
       "      <td>...</td>\n",
       "      <td>2024-08-13T20:36:48Z</td>\n",
       "      <td>2024-08-14T07:26:30Z</td>\n",
       "      <td>None</td>\n",
       "      <td>None</td>\n",
       "      <td>None</td>\n",
       "      <td>NaN</td>\n",
       "      <td>NaN</td>\n",
       "      <td>NaN</td>\n",
       "      <td>NaN</td>\n",
       "      <td>NaN</td>\n",
       "    </tr>\n",
       "  </tbody>\n",
       "</table>\n",
       "<p>8 rows × 32 columns</p>\n",
       "</div>"
      ],
      "text/plain": [
       "                   date  temp_max  temp_min  \\\n",
       "0  2024-08-06T14:00:00Z        18       NaN   \n",
       "1  2024-08-07T14:00:00Z        20       5.0   \n",
       "2  2024-08-08T14:00:00Z        20       9.0   \n",
       "3  2024-08-09T14:00:00Z        19       8.0   \n",
       "4  2024-08-10T14:00:00Z        18       9.0   \n",
       "5  2024-08-11T14:00:00Z        19       9.0   \n",
       "6  2024-08-12T14:00:00Z        20      10.0   \n",
       "7  2024-08-13T14:00:00Z        21      11.0   \n",
       "\n",
       "                                       extended_text icon_descriptor  \\\n",
       "0                                Clear. Light winds.           clear   \n",
       "1  Patches of morning frost in the west. The chan...             fog   \n",
       "2  Partly cloudy. The chance of morning fog in th...          cloudy   \n",
       "3  Partly cloudy. The chance of morning fog in th...          shower   \n",
       "4  Partly cloudy. The chance of morning fog. Medi...          shower   \n",
       "5  Partly cloudy. Medium chance of showers. Light...          shower   \n",
       "6  Cloudy. Medium chance of showers. Light winds ...          shower   \n",
       "7  Partly cloudy. Medium chance of showers. Light...          shower   \n",
       "\n",
       "         short_text surf_danger fire_danger  rain.amount.min  rain.amount.max  \\\n",
       "0            Clear.        None        None                0              NaN   \n",
       "1            Sunny.        None   No Rating                0              NaN   \n",
       "2    Partly cloudy.        None   No Rating                0              NaN   \n",
       "3  Possible shower.        None   No Rating                0              1.0   \n",
       "4    Shower or two.        None   No Rating                0              2.0   \n",
       "5    Shower or two.        None        None                1              4.0   \n",
       "6    Shower or two.        None        None                0              5.0   \n",
       "7    Shower or two.        None        None                0              3.0   \n",
       "\n",
       "   ...  astronomical.sunrise_time  astronomical.sunset_time  \\\n",
       "0  ...       2024-08-06T20:43:44Z      2024-08-07T07:21:33Z   \n",
       "1  ...       2024-08-07T20:42:48Z      2024-08-08T07:22:15Z   \n",
       "2  ...       2024-08-08T20:41:50Z      2024-08-09T07:22:58Z   \n",
       "3  ...       2024-08-09T20:40:52Z      2024-08-10T07:23:41Z   \n",
       "4  ...       2024-08-10T20:39:53Z      2024-08-11T07:24:23Z   \n",
       "5  ...       2024-08-11T20:38:52Z      2024-08-12T07:25:06Z   \n",
       "6  ...       2024-08-12T20:37:51Z      2024-08-13T07:25:48Z   \n",
       "7  ...       2024-08-13T20:36:48Z      2024-08-14T07:26:30Z   \n",
       "\n",
       "  fire_danger_category.text  fire_danger_category.default_colour  \\\n",
       "0                      None                                 None   \n",
       "1                 No Rating                                 None   \n",
       "2                 No Rating                                 None   \n",
       "3                 No Rating                                 None   \n",
       "4                 No Rating                                 None   \n",
       "5                      None                                 None   \n",
       "6                      None                                 None   \n",
       "7                      None                                 None   \n",
       "\n",
       "  fire_danger_category.dark_mode_colour  now.is_night  now.now_label  \\\n",
       "0                                  None          True  Overnight min   \n",
       "1                                  None           NaN            NaN   \n",
       "2                                  None           NaN            NaN   \n",
       "3                                  None           NaN            NaN   \n",
       "4                                  None           NaN            NaN   \n",
       "5                                  None           NaN            NaN   \n",
       "6                                  None           NaN            NaN   \n",
       "7                                  None           NaN            NaN   \n",
       "\n",
       "   now.later_label now.temp_now now.temp_later  \n",
       "0   Tomorrow's max          5.0           20.0  \n",
       "1              NaN          NaN            NaN  \n",
       "2              NaN          NaN            NaN  \n",
       "3              NaN          NaN            NaN  \n",
       "4              NaN          NaN            NaN  \n",
       "5              NaN          NaN            NaN  \n",
       "6              NaN          NaN            NaN  \n",
       "7              NaN          NaN            NaN  \n",
       "\n",
       "[8 rows x 32 columns]"
      ]
     },
     "execution_count": 58,
     "metadata": {},
     "output_type": "execute_result"
    }
   ],
   "source": [
    "df_daily_forecast"
   ]
  },
  {
   "cell_type": "code",
   "execution_count": 26,
   "id": "a22b709b-7959-4c6e-96b7-5c0bbbe39a15",
   "metadata": {},
   "outputs": [
    {
     "name": "stdout",
     "output_type": "stream",
     "text": [
      "<class 'pandas.core.frame.DataFrame'>\n",
      "RangeIndex: 7 entries, 0 to 6\n",
      "Data columns (total 32 columns):\n",
      " #   Column                                       Non-Null Count  Dtype  \n",
      "---  ------                                       --------------  -----  \n",
      " 0   date                                         7 non-null      object \n",
      " 1   temp_max                                     7 non-null      int64  \n",
      " 2   temp_min                                     7 non-null      int64  \n",
      " 3   extended_text                                0 non-null      object \n",
      " 4   icon_descriptor                              7 non-null      object \n",
      " 5   short_text                                   0 non-null      object \n",
      " 6   surf_danger                                  0 non-null      object \n",
      " 7   fire_danger                                  0 non-null      object \n",
      " 8   rain.amount.min                              7 non-null      int64  \n",
      " 9   rain.amount.max                              3 non-null      float64\n",
      " 10  rain.amount.lower_range                      7 non-null      int64  \n",
      " 11  rain.amount.upper_range                      7 non-null      int64  \n",
      " 12  rain.amount.units                            7 non-null      object \n",
      " 13  rain.chance                                  7 non-null      int64  \n",
      " 14  rain.chance_of_no_rain_category              7 non-null      object \n",
      " 15  rain.precipitation_amount_25_percent_chance  7 non-null      int64  \n",
      " 16  rain.precipitation_amount_50_percent_chance  7 non-null      int64  \n",
      " 17  rain.precipitation_amount_75_percent_chance  7 non-null      int64  \n",
      " 18  uv.category                                  4 non-null      object \n",
      " 19  uv.end_time                                  4 non-null      object \n",
      " 20  uv.max_index                                 4 non-null      float64\n",
      " 21  uv.start_time                                4 non-null      object \n",
      " 22  astronomical.sunrise_time                    7 non-null      object \n",
      " 23  astronomical.sunset_time                     7 non-null      object \n",
      " 24  fire_danger_category.text                    0 non-null      object \n",
      " 25  fire_danger_category.default_colour          0 non-null      object \n",
      " 26  fire_danger_category.dark_mode_colour        0 non-null      object \n",
      " 27  now.is_night                                 1 non-null      object \n",
      " 28  now.now_label                                1 non-null      object \n",
      " 29  now.later_label                              1 non-null      object \n",
      " 30  now.temp_now                                 1 non-null      float64\n",
      " 31  now.temp_later                               1 non-null      float64\n",
      "dtypes: float64(4), int64(9), object(19)\n",
      "memory usage: 1.9+ KB\n"
     ]
    }
   ],
   "source": [
    "df_daily_forecast.info()"
   ]
  },
  {
   "cell_type": "code",
   "execution_count": null,
   "id": "5c86fc1b-3d31-4594-a4e0-30927bf1ee02",
   "metadata": {},
   "outputs": [],
   "source": [
    "df_daily_forecast.describe()"
   ]
  },
  {
   "cell_type": "code",
   "execution_count": null,
   "id": "de929bf4-3c8d-45a2-a35e-371463feb0cc",
   "metadata": {},
   "outputs": [],
   "source": [
    "df_daily_forecast.to_csv('bom_daily_forecast.csv', sep=',')"
   ]
  },
  {
   "cell_type": "code",
   "execution_count": null,
   "id": "eb5c7c94-8337-4d6b-81cd-40ab3c404ed9",
   "metadata": {},
   "outputs": [],
   "source": [
    "#Downloading rainfalls by station and year as a zip file. download link manually"
   ]
  },
  {
   "cell_type": "code",
   "execution_count": 41,
   "id": "e5bd3c05-e3c8-4a81-9d23-77ec0fe3fe9e",
   "metadata": {},
   "outputs": [],
   "source": [
    "station_no=\"066214\"\n",
    "year=2024"
   ]
  },
  {
   "cell_type": "code",
   "execution_count": 49,
   "id": "b65fe84c-17bd-429d-909d-ecd445ac9d64",
   "metadata": {},
   "outputs": [
    {
     "name": "stdout",
     "output_type": "stream",
     "text": [
      "[2024-08-07][18:15:24:852607] GET http://www.bom.gov.au/tmp/cdio/IDCJAC0009_066214_2024.zip\n",
      "<Response [403]>\n",
      "[2024-08-07][18:15:24:902350]  ERROR While trying to download.\n"
     ]
    }
   ],
   "source": [
    "file_name='IDCJAC0009_'+station_no+\"_\"+str(year)+\".zip\" #year=1800 for all years\n",
    "daily_rainfalls_url = 'http://www.bom.gov.au/tmp/cdio/'+file_name\n",
    "print(datetime.now().strftime(\"[%Y-%m-%d][%H:%M:%S:%f] \")+\"GET \"+daily_rainfalls_url )  \n",
    "try:\n",
    "    response = requests.get(daily_rainfalls_url,headers=header)\n",
    "    print(response)\n",
    "    if(response.status_code==200):\n",
    "        print(datetime.now().strftime(\"[%Y-%m-%d][%H:%M:%S:%f] \")+\"File \"+file_name+ \" downloaded successfully.\")\n",
    "    else:\n",
    "        print (datetime.now().strftime(\"[%Y-%m-%d][%H:%M:%S:%f] \")+\" ERROR While trying to download.\")\n",
    "except Exception as e:\n",
    "    print(datetime.now().strftime(\"[%Y-%m-%d][%H:%M:%S:%f]\")+str(e))\n",
    "#with open(file_name, 'wb') as file:\n",
    "  #  file.write(response.content)\n",
    "#http://www.bom.gov.au/tmp/cdio/IDCJAC0009_066214_2024.zip"
   ]
  },
  {
   "cell_type": "code",
   "execution_count": 34,
   "id": "ac3ad284-e2f5-48a1-879a-8c0d1b59933f",
   "metadata": {},
   "outputs": [],
   "source": [
    "import zipfile"
   ]
  },
  {
   "cell_type": "code",
   "execution_count": 53,
   "id": "8fe51dd8-050a-4d90-a864-26ed3187a559",
   "metadata": {},
   "outputs": [
    {
     "name": "stdout",
     "output_type": "stream",
     "text": [
      "Extraction completed!\n"
     ]
    }
   ],
   "source": [
    "extract_to_directory = '.'\n",
    "# Extracting the ZIP file\n",
    "with zipfile.ZipFile(\"C:\\\\Users\\\\alibo\\\\Downloads\\\\\"+ file_name, 'r') as zip_ref:\n",
    "    zip_ref.extractall(extract_to_directory)\n",
    "print(\"Extraction completed!\")"
   ]
  },
  {
   "cell_type": "code",
   "execution_count": null,
   "id": "d72eb8a0-fc93-4959-9e84-dc955865d392",
   "metadata": {},
   "outputs": [],
   "source": [
    "#Daily rainfall observations: #\"http://www.bom.gov.au/tmp/cdio/IDCJAC0009_\"+station_no+\"_\"+year+\".zip\" station no e.g. = IDCJAC0009_086232_2024.zip"
   ]
  },
  {
   "cell_type": "code",
   "execution_count": null,
   "id": "e4ad9533-9219-4c5f-86f9-0e74ed18f652",
   "metadata": {},
   "outputs": [],
   "source": [
    "#List of BOM stations:http://www.bom.gov.au/climate/data/lists_by_element/stations.txt\n",
    "\n",
    "#http://www.bom.gov.au/climate/data/lists_by_element/numAUS_139.txt\n",
    "#Rainfall history (csv): http://www.bom.gov.au/climate/data/ \n",
    "#http://www.bom.gov.au/jsp/ncc/cdio/weatherData/av?p_display_type=dailyZippedDataFile&p_stn_num=086232&p_c=-1487274182&p_nccObsCode=136&p_startYear=2024\n",
    "#http://www.bom.gov.au/tmp/cdio/IDCJAC0009_086232_2024.zip  #http://www.bom.gov.au/climate/cdo/about/about-IDCJAC0009.shtml\n",
    "#http://www.bom.gov.au/catalogue/anon-ftp.shtml\n",
    "#DN60003\tDaily Rainfall Bulletin (NSW)"
   ]
  },
  {
   "cell_type": "markdown",
   "id": "f94ceb01-73b8-40cf-b3f3-10c14c1ba486",
   "metadata": {},
   "source": [
    "All forecast, warning and observation products – IDD - NT, IDN - NSW/ACT, IDQ - Qld, IDS - SA, IDT - Tas, IDV - Vic, IDW - WA"
   ]
  },
  {
   "cell_type": "code",
   "execution_count": null,
   "id": "f6b7f630-e70f-4725-8de6-2ec02161d9dd",
   "metadata": {},
   "outputs": [],
   "source": [
    "#ftp://ftp.bom.gov.au/anon/gen/fwo/   \n",
    "#http://www.bom.gov.au/fwo/IDV60901/IDV60901.95936.json Victoria weather observation- wmo No. 95936"
   ]
  },
  {
   "cell_type": "code",
   "execution_count": 71,
   "id": "92787d31-371f-4891-b3e4-62907cbc8b97",
   "metadata": {},
   "outputs": [],
   "source": [
    "product_code='IDV60901'\n",
    "wmo_code='95936'\n",
    "header= {'accept': 'application/json'}"
   ]
  },
  {
   "cell_type": "code",
   "execution_count": 79,
   "id": "97a053c6-9597-409b-b65b-c8b6f899322e",
   "metadata": {},
   "outputs": [],
   "source": [
    "resource_address=\"http://www.bom.gov.au/fwo/\"+str(product_code)+\"/\"+str(product_code)+\".\"+str(wmo_code)+\".json\""
   ]
  },
  {
   "cell_type": "code",
   "execution_count": 83,
   "id": "10a8819e-2b1f-44ea-85e4-10f0748bbaf2",
   "metadata": {},
   "outputs": [
    {
     "name": "stdout",
     "output_type": "stream",
     "text": [
      "[2024-08-07][19:13:19:382606] GET http://www.bom.gov.au/fwo/IDV60901/IDV60901.95936.json\n",
      "<Response [403]>\n",
      "[2024-08-07][19:13:19:427840]can only concatenate str (not \"Response\") to str\n"
     ]
    }
   ],
   "source": [
    "print(datetime.now().strftime(\"[%Y-%m-%d][%H:%M:%S:%f] \")+\"GET \"+resource_address)  \n",
    "try:\n",
    "    response = requests.get(resource_address,headers=header)\n",
    "    print(response)\n",
    "    if(response.status_code==200):\n",
    "        print(datetime.now().strftime(\"[%Y-%m-%d][%H:%M:%S:%f] \")+\"Data received successfully.\")\n",
    "    else:\n",
    "        print (datetime.now().strftime(\"[%Y-%m-%d][%H:%M:%S:%f] \")+\" ERROR Code:\"+response)\n",
    "except Exception as e:\n",
    "    print(datetime.now().strftime(\"[%Y-%m-%d][%H:%M:%S:%f]\")+str(e))"
   ]
  },
  {
   "cell_type": "code",
   "execution_count": null,
   "id": "9b6b5d0b-a186-4225-a4a2-07da757cc8b6",
   "metadata": {},
   "outputs": [],
   "source": []
  }
 ],
 "metadata": {
  "kernelspec": {
   "display_name": "Python 3 (ipykernel)",
   "language": "python",
   "name": "python3"
  },
  "language_info": {
   "codemirror_mode": {
    "name": "ipython",
    "version": 3
   },
   "file_extension": ".py",
   "mimetype": "text/x-python",
   "name": "python",
   "nbconvert_exporter": "python",
   "pygments_lexer": "ipython3",
   "version": "3.10.4"
  }
 },
 "nbformat": 4,
 "nbformat_minor": 5
}
